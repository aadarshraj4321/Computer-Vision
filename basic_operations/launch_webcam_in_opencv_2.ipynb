{
  "nbformat": 4,
  "nbformat_minor": 0,
  "metadata": {
    "colab": {
      "provenance": []
    },
    "kernelspec": {
      "name": "python3",
      "display_name": "Python 3"
    },
    "language_info": {
      "name": "python"
    }
  },
  "cells": [
    {
      "cell_type": "code",
      "execution_count": 1,
      "metadata": {
        "id": "Jk-klNIJ25N5"
      },
      "outputs": [],
      "source": [
        "import cv2\n",
        "import numpy as np\n",
        "from google.colab.patches import cv2_imshow"
      ]
    },
    {
      "cell_type": "code",
      "source": [
        "## video = \"/content/drive/MyDrive/learning/computer_vision_second/video/test.mp4\"\n"
      ],
      "metadata": {
        "id": "hl7KmcwH5jBT"
      },
      "execution_count": 2,
      "outputs": []
    },
    {
      "cell_type": "code",
      "source": [
        "print(cv2.__version__)"
      ],
      "metadata": {
        "colab": {
          "base_uri": "https://localhost:8080/"
        },
        "id": "g7CEWwSx5kKS",
        "outputId": "1a06bf61-f877-4792-dd39-d0e3e06f9b1b"
      },
      "execution_count": 3,
      "outputs": [
        {
          "output_type": "stream",
          "name": "stdout",
          "text": [
            "4.6.0\n"
          ]
        }
      ]
    },
    {
      "cell_type": "code",
      "source": [
        "## for launching a webcam we have to create a camera object\n",
        "## cv2.VideoCapture(0) \n",
        "## cv2.VideoCapture(1)\n",
        "## cv2.VideoCapture(\"test.mp4\")\n",
        "##      so in VideoCapture(0), 0 means if you have 2 camera in your laptop then 0 means first camera and 1 means second camera\n",
        "##      but if you don't want to run something in your camera and instead of camera you want to run video then you can replace the 0 or 1 in VideoCapture() function with full path of video with video name\n",
        "\n",
        "#cam = cv2.VideoCapture(\"/content/drive/MyDrive/learning/computer_vision_second/video/test.mp4\")\n",
        "cam = cv2.VideoCapture(0)"
      ],
      "metadata": {
        "id": "Ceh3o39Q5lOm"
      },
      "execution_count": 4,
      "outputs": []
    },
    {
      "cell_type": "code",
      "source": [
        "## after creating a camera object we have to go in loop because we want all frame of that camera object \n",
        "while True:\n",
        "    ## read the camera object frame by frame\n",
        "    ret, frame = cam.read()\n",
        "    \n",
        "    ## convert the normal BGR Frame to Gray frame\n",
        "    grayFrame = cv2.cvtColor(frame, cv2.COLOR_BGR2GRAY)\n",
        "\n",
        "    ## convert the normal BGR Frame to RGB frame\n",
        "    rgbFrame = cv2.cvtColor(frame, cv2.COLOR_BGR2RGB)\n",
        "\n",
        "    ## convert the normal BGR Frame to HSV(Hue Saturation Value) frame\n",
        "    hsvFrame = cv2.cvtColor(frame, cv2.COLOR_BGR2HSV)\n",
        "\n",
        "    ## show the frame by frame on display\n",
        "    # cv2_imshow(frame)\n",
        "    cv2.imshow(\"myWebCam\", frame)\n",
        "    # show the gray frame\n",
        "    cv2.imshow(\"myWebCamGray\", grayFrame)\n",
        "    # show the rgb frame\n",
        "    cv2.imshow(\"myWebCamRgb\", rgbFrame)\n",
        "    # show the hsv frame\n",
        "    cv2.imshow(\"myWebCamHsv\", hsvFrame)\n",
        "\n",
        "\n",
        "    ## show the imshow display on exact position of screen\n",
        "    cv2.moveWindow(\"myWebCam\", 0, 0)\n",
        "    cv2.moveWindow(\"myWebCamGray\", 640, 0)\n",
        "    cv2.moveWindow(\"myWebCamRgb\", 640, 480)\n",
        "    cv2.moveWindow(\"myWebCamHsv\", 0, 480)\n",
        "\n",
        "    ## for exit the frame and destroy the frame\n",
        "    if(cv2.waitKey(1) & 0xff == ord(\"f\")):\n",
        "        break\n",
        "\n",
        "## because if we release then it can use in some other task \n",
        "cam.release()\n",
        "cv2.destroyAllWindows()"
      ],
      "metadata": {
        "id": "I4_V80ju5mVF"
      },
      "execution_count": null,
      "outputs": []
    }
  ]
}